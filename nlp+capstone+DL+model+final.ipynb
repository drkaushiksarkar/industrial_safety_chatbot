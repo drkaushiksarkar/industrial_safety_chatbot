{
  "cells": [
    {
      "cell_type": "markdown",
      "metadata": {
        "id": "view-in-github",
        "colab_type": "text"
      },
      "source": [
        "<a href=\"https://colab.research.google.com/github/drkaushiksarkar/industrial_safety_chatbot/blob/main/nlp%2Bcapstone%2BDL%2Bmodel%2Bfinal.ipynb\" target=\"_parent\"><img src=\"https://colab.research.google.com/assets/colab-badge.svg\" alt=\"Open In Colab\"/></a>"
      ]
    },
    {
      "cell_type": "code",
      "execution_count": null,
      "metadata": {
        "id": "RxhMIdPIWWK2"
      },
      "outputs": [],
      "source": [
        "#pip install --upgrade tensorflow"
      ]
    },
    {
      "cell_type": "code",
      "execution_count": null,
      "metadata": {
        "id": "bUAOkn25WWK4",
        "outputId": "584bcdf9-e1ac-4401-b3cd-814ce4d790a9"
      },
      "outputs": [
        {
          "name": "stderr",
          "output_type": "stream",
          "text": [
            "[nltk_data] Downloading package stopwords to\n",
            "[nltk_data]     /Users/kaushik/nltk_data...\n",
            "[nltk_data]   Package stopwords is already up-to-date!\n"
          ]
        }
      ],
      "source": [
        "import os\n",
        "import pandas as pd\n",
        "import numpy as np\n",
        "\n",
        "\n",
        "import keras\n",
        "from keras.datasets import imdb\n",
        "from keras.preprocessing.sequence import pad_sequences\n",
        "from keras.models import Sequential\n",
        "from keras.layers import Dense, Flatten, Dropout\n",
        "from keras.layers import Embedding\n",
        "from keras.layers import Conv1D, GlobalMaxPooling1D, MaxPooling1D\n",
        "from keras.layers import SpatialDropout1D\n",
        "from keras.callbacks import ModelCheckpoint\n",
        "from tensorflow.keras.callbacks import EarlyStopping\n",
        "from tensorflow.keras.preprocessing.text import Tokenizer\n",
        "from tensorflow.keras.layers import LSTM\n",
        "from tensorflow.keras.layers import Dense\n",
        "\n",
        "import re\n",
        "import nltk\n",
        "from nltk.corpus import stopwords\n",
        "nltk.download('stopwords')\n",
        "\n",
        "from sklearn.model_selection import train_test_split, validation_curve, GridSearchCV\n",
        "from sklearn.metrics import accuracy_score, f1_score, confusion_matrix, recall_score, precision_score, roc_auc_score\n",
        "from sklearn.ensemble import RandomForestClassifier\n",
        "from sklearn.preprocessing import OneHotEncoder\n",
        "\n",
        "import pickle\n",
        "\n",
        "import matplotlib.pyplot as plt\n",
        "import seaborn as sns\n",
        "%matplotlib inline"
      ]
    },
    {
      "cell_type": "code",
      "execution_count": null,
      "metadata": {
        "id": "J0m5p8h0WWK5",
        "outputId": "e2d5e717-d022-4a1d-8280-472af0339c1e"
      },
      "outputs": [
        {
          "name": "stdout",
          "output_type": "stream",
          "text": [
            "/Users/kaushik/Desktop/bot\n"
          ]
        }
      ],
      "source": [
        "cd bot"
      ]
    },
    {
      "cell_type": "code",
      "execution_count": null,
      "metadata": {
        "id": "bjI3RJn6WWK5"
      },
      "outputs": [],
      "source": [
        "def clean_text(text):\n",
        "\tREPLACE_BY_SPACE_RE = re.compile('[/(){}\\[\\]\\|@,;]')\n",
        "\tBAD_SYMBOLS_RE = re.compile('[^0-9a-z #+_]')\n",
        "\tSTOPWORDS = set(stopwords.words('english'))\n",
        "\ttext = text.lower() # lowercase text\n",
        "\ttext = REPLACE_BY_SPACE_RE.sub(' ', text) # replace REPLACE_BY_SPACE_RE symbols by space in text. substitute the matched string in REPLACE_BY_SPACE_RE with space.\n",
        "\ttext = BAD_SYMBOLS_RE.sub('', text) # remove symbols which are in BAD_SYMBOLS_RE from text. substitute the matched string in BAD_SYMBOLS_RE with nothing. \n",
        "\ttext = text.replace('x', '')\n",
        "\ttext = ' '.join(word for word in text.split() if word not in STOPWORDS) # remove stopwors from text\n",
        "\treturn text\n",
        "contraction_dict = {\"ain't\": \"is not\", \"aren't\": \"are not\",\"can't\": \"cannot\", \"'cause\": \"because\", \"could've\": \"could have\", \"couldn't\": \"could not\", \"didn't\": \"did not\",  \"doesn't\": \"does not\", \"don't\": \"do not\", \"hadn't\": \"had not\", \"hasn't\": \"has not\", \"haven't\": \"have not\", \"he'd\": \"he would\",\"he'll\": \"he will\", \"he's\": \"he is\", \"how'd\": \"how did\", \"how'd'y\": \"how do you\", \"how'll\": \"how will\", \"how's\": \"how is\",  \"I'd\": \"I would\", \"I'd've\": \"I would have\", \"I'll\": \"I will\", \"I'll've\": \"I will have\",\"I'm\": \"I am\", \"I've\": \"I have\", \"i'd\": \"i would\", \"i'd've\": \"i would have\", \"i'll\": \"i will\",  \"i'll've\": \"i will have\",\"i'm\": \"i am\", \"i've\": \"i have\", \"isn't\": \"is not\", \"it'd\": \"it would\", \"it'd've\": \"it would have\", \"it'll\": \"it will\", \"it'll've\": \"it will have\",\"it's\": \"it is\", \"let's\": \"let us\", \"ma'am\": \"madam\", \"mayn't\": \"may not\", \"might've\": \"might have\",\"mightn't\": \"might not\",\"mightn't've\": \"might not have\", \"must've\": \"must have\", \"mustn't\": \"must not\", \"mustn't've\": \"must not have\", \"needn't\": \"need not\", \"needn't've\": \"need not have\",\"o'clock\": \"of the clock\", \"oughtn't\": \"ought not\", \"oughtn't've\": \"ought not have\", \"shan't\": \"shall not\", \"sha'n't\": \"shall not\", \"shan't've\": \"shall not have\", \"she'd\": \"she would\", \"she'd've\": \"she would have\", \"she'll\": \"she will\", \"she'll've\": \"she will have\", \"she's\": \"she is\", \"should've\": \"should have\", \"shouldn't\": \"should not\", \"shouldn't've\": \"should not have\", \"so've\": \"so have\",\"so's\": \"so as\", \"this's\": \"this is\",\"that'd\": \"that would\", \"that'd've\": \"that would have\", \"that's\": \"that is\", \"there'd\": \"there would\", \"there'd've\": \"there would have\", \"there's\": \"there is\", \"here's\": \"here is\",\"they'd\": \"they would\", \"they'd've\": \"they would have\", \"they'll\": \"they will\", \"they'll've\": \"they will have\", \"they're\": \"they are\", \"they've\": \"they have\", \"to've\": \"to have\", \"wasn't\": \"was not\", \"we'd\": \"we would\", \"we'd've\": \"we would have\", \"we'll\": \"we will\", \"we'll've\": \"we will have\", \"we're\": \"we are\", \"we've\": \"we have\", \"weren't\": \"were not\", \"what'll\": \"what will\", \"what'll've\": \"what will have\", \"what're\": \"what are\",  \"what's\": \"what is\", \"what've\": \"what have\", \"when's\": \"when is\", \"when've\": \"when have\", \"where'd\": \"where did\", \"where's\": \"where is\", \"where've\": \"where have\", \"who'll\": \"who will\", \"who'll've\": \"who will have\", \"who's\": \"who is\", \"who've\": \"who have\", \"why's\": \"why is\", \"why've\": \"why have\", \"will've\": \"will have\", \"won't\": \"will not\", \"won't've\": \"will not have\", \"would've\": \"would have\", \"wouldn't\": \"would not\", \"wouldn't've\": \"would not have\", \"y'all\": \"you all\", \"y'all'd\": \"you all would\",\"y'all'd've\": \"you all would have\",\"y'all're\": \"you all are\",\"y'all've\": \"you all have\",\"you'd\": \"you would\", \"you'd've\": \"you would have\", \"you'll\": \"you will\", \"you'll've\": \"you will have\", \"you're\": \"you are\", \"you've\": \"you have\"}\n",
        "def _get_contractions(contraction_dict):\n",
        "\tcontraction_re = re.compile('(%s)' % '|'.join(contraction_dict.keys()))\n",
        "\treturn contraction_dict, contraction_re\n",
        "contractions, contractions_re = _get_contractions(contraction_dict)\n",
        "def replace_contractions(text):\n",
        "\tdef replace(match):\n",
        "\t\treturn contractions[match.group(0)]\n",
        "\treturn contractions_re.sub(replace, text)"
      ]
    },
    {
      "cell_type": "code",
      "execution_count": null,
      "metadata": {
        "id": "wE0PhbfwWWK6",
        "outputId": "398fd847-ce75-4837-e1c4-a6bf3026f7e1"
      },
      "outputs": [
        {
          "name": "stderr",
          "output_type": "stream",
          "text": [
            "<ipython-input-5-54acc39f4e28>:46: SettingWithCopyWarning: \n",
            "A value is trying to be set on a copy of a slice from a DataFrame.\n",
            "Try using .loc[row_indexer,col_indexer] = value instead\n",
            "\n",
            "See the caveats in the documentation: https://pandas.pydata.org/pandas-docs/stable/user_guide/indexing.html#returning-a-view-versus-a-copy\n",
            "  data['acc_grade'] = np.select(conditions_2, values_2)\n"
          ]
        }
      ],
      "source": [
        "df= pd.read_csv(\"industrial_safety_and_health_database_with_accidents_description.csv\", encoding=\"latin-1\")\n",
        "df = df.drop('Unnamed: 0', axis = 1)\n",
        "df = df.drop_duplicates(keep='first')\n",
        "df.rename(columns={'Data':'Date', 'Countries':'Country', 'Genre':'Gender', 'Employee or Third Party':'Employee', 'Industry Sector': 'Industry', 'Critical Risk': 'Risk'}, inplace=True)\n",
        "df['Date'] = pd.to_datetime(df['Date'])\n",
        "df['Month'] = df['Date'].apply(lambda x : x.month_name())\n",
        "df['Weekday'] = df['Date'].apply(lambda x : x.day_name())\n",
        "df['Employee'] = df['Employee'].str.replace(' ', '_')\n",
        "df['Risk'] = df['Risk'].str.replace('\\n', '').str.replace(' ', '_')\n",
        "df = df.reset_index(drop=True)\n",
        "\n",
        "\n",
        "# The maximum number of words to be used. (most frequent)\n",
        "MAX_NB_WORDS = 5000\n",
        "# Max number of words in each complaint.\n",
        "MAX_SEQUENCE_LENGTH = 50\n",
        "# This is fixed.\n",
        "EMBEDDING_DIM = 100\n",
        "tokenizer = Tokenizer(num_words=MAX_NB_WORDS, filters='!\"#$%&()*+,-./:;<=>?@[\\]^_`{|}~', lower=True)\n",
        "tokenizer.fit_on_texts(df['Description'].values)\n",
        "word_index = tokenizer.word_index\n",
        "\n",
        "\n",
        "data = df[['Description', 'Accident Level']]\n",
        "details = df.drop(['Description', 'Accident Level'], axis=1)\n",
        "values = ['low-grade', 'low-grade', 'high-grade', 'high-grade', 'high-grade', 'high-grade']\n",
        "conditions = [\n",
        "(details['Potential Accident Level'] == 'I'),\n",
        "    (details['Potential Accident Level'] == 'II'),\n",
        "    (details['Potential Accident Level'] == 'III'),\n",
        "    (details['Potential Accident Level'] == 'IV'),\n",
        "    (details['Potential Accident Level'] == 'V'),\n",
        "    (details['Potential Accident Level'] == 'VI')\n",
        "    ]\n",
        "\n",
        "values_2 = ['low-grade', 'high-grade', 'high-grade', 'high-grade', 'high-grade']\n",
        "conditions_2 = [\n",
        "(details['Potential Accident Level'] == 'I'),\n",
        "    (details['Potential Accident Level'] == 'II'),\n",
        "    (details['Potential Accident Level'] == 'III'),\n",
        "    (details['Potential Accident Level'] == 'IV'),\n",
        "    (details['Potential Accident Level'] == 'V')\n",
        "    ]\n",
        "\n",
        "    \n",
        "data['acc_grade'] = np.select(conditions_2, values_2)\n",
        "details['pot_acc_grade'] = np.select(conditions, values)\n",
        "data = data.drop_duplicates(keep='first')\n",
        "details = details.drop_duplicates(keep='first')\n",
        "\n",
        "# Features and Labels\n",
        "X = tokenizer.texts_to_sequences(data['Description'].values)\n",
        "X = pad_sequences(X, maxlen=MAX_SEQUENCE_LENGTH)\n",
        "Y = data['acc_grade']\n",
        "\n",
        "\n",
        "Y_details = details['pot_acc_grade']\n",
        "X_details = details.drop(['Date','Potential Accident Level', 'pot_acc_grade'], axis = 1)\n"
      ]
    },
    {
      "cell_type": "code",
      "execution_count": null,
      "metadata": {
        "id": "pCgwCLFNWWK6",
        "outputId": "24fb2e2f-4ac7-44c6-a6cd-755cdc6cfecc"
      },
      "outputs": [
        {
          "data": {
            "text/html": [
              "<div>\n",
              "<style scoped>\n",
              "    .dataframe tbody tr th:only-of-type {\n",
              "        vertical-align: middle;\n",
              "    }\n",
              "\n",
              "    .dataframe tbody tr th {\n",
              "        vertical-align: top;\n",
              "    }\n",
              "\n",
              "    .dataframe thead th {\n",
              "        text-align: right;\n",
              "    }\n",
              "</style>\n",
              "<table border=\"1\" class=\"dataframe\">\n",
              "  <thead>\n",
              "    <tr style=\"text-align: right;\">\n",
              "      <th></th>\n",
              "      <th>Accident Level</th>\n",
              "      <th>Description</th>\n",
              "    </tr>\n",
              "  </thead>\n",
              "  <tbody>\n",
              "    <tr>\n",
              "      <th>0</th>\n",
              "      <td>I</td>\n",
              "      <td>309</td>\n",
              "    </tr>\n",
              "    <tr>\n",
              "      <th>1</th>\n",
              "      <td>II</td>\n",
              "      <td>40</td>\n",
              "    </tr>\n",
              "    <tr>\n",
              "      <th>2</th>\n",
              "      <td>III</td>\n",
              "      <td>31</td>\n",
              "    </tr>\n",
              "    <tr>\n",
              "      <th>3</th>\n",
              "      <td>IV</td>\n",
              "      <td>30</td>\n",
              "    </tr>\n",
              "    <tr>\n",
              "      <th>4</th>\n",
              "      <td>V</td>\n",
              "      <td>8</td>\n",
              "    </tr>\n",
              "  </tbody>\n",
              "</table>\n",
              "</div>"
            ],
            "text/plain": [
              "  Accident Level  Description\n",
              "0              I          309\n",
              "1             II           40\n",
              "2            III           31\n",
              "3             IV           30\n",
              "4              V            8"
            ]
          },
          "execution_count": 6,
          "metadata": {},
          "output_type": "execute_result"
        }
      ],
      "source": [
        "count_df = df[['Accident Level','Description']].groupby('Accident Level').aggregate({'Description':'count'}).reset_index().sort_values('Description',ascending=False)\n",
        "count_df.head()"
      ]
    },
    {
      "cell_type": "code",
      "execution_count": null,
      "metadata": {
        "id": "d7XEyRmtWWK6"
      },
      "outputs": [],
      "source": [
        "encoder = OneHotEncoder(drop='first', sparse=False)\n",
        "encoder.fit(X_details)\n",
        "X_details = encoder.transform(X_details)\n",
        "with open(\"encoder\", \"wb\") as f: \n",
        "    pickle.dump(encoder, f)"
      ]
    },
    {
      "cell_type": "code",
      "execution_count": null,
      "metadata": {
        "id": "6urTIricWWK7"
      },
      "outputs": [],
      "source": [
        "X_train, X_test, y_train, y_test = train_test_split(X_details, Y_details, test_size = 0.10, random_state = 1, stratify = Y_details)"
      ]
    },
    {
      "cell_type": "code",
      "execution_count": null,
      "metadata": {
        "id": "qbFyewlpWWK7",
        "outputId": "c6d79ec1-89b6-4df6-b39d-536d5189033d"
      },
      "outputs": [
        {
          "data": {
            "text/plain": [
              "RandomForestClassifier(random_state=42)"
            ]
          },
          "execution_count": 9,
          "metadata": {},
          "output_type": "execute_result"
        }
      ],
      "source": [
        "# ML Model \n",
        "rf_clf = RandomForestClassifier(random_state = 42)\n",
        "rf_clf.fit(X_train, y_train)"
      ]
    },
    {
      "cell_type": "code",
      "execution_count": null,
      "metadata": {
        "id": "gXDGurUSWWK7"
      },
      "outputs": [],
      "source": [
        "y_pred = rf_clf.predict(X_test)"
      ]
    },
    {
      "cell_type": "code",
      "execution_count": null,
      "metadata": {
        "id": "kuPH0FeeWWK8",
        "outputId": "084b87b1-9bcf-4a06-a8f8-0927bdb9d68f"
      },
      "outputs": [
        {
          "data": {
            "text/plain": [
              "0.6666666666666666"
            ]
          },
          "execution_count": 11,
          "metadata": {},
          "output_type": "execute_result"
        }
      ],
      "source": [
        "accuracy_score(y_test, y_pred)"
      ]
    },
    {
      "cell_type": "code",
      "execution_count": null,
      "metadata": {
        "id": "E24xnfGUWWK8",
        "outputId": "c7db590a-d389-4685-d0ff-b94c96bf2ef1"
      },
      "outputs": [
        {
          "data": {
            "text/plain": [
              "array([[23,  5],\n",
              "       [ 9,  5]])"
            ]
          },
          "execution_count": 12,
          "metadata": {},
          "output_type": "execute_result"
        }
      ],
      "source": [
        "confusion_matrix(y_test, y_pred)"
      ]
    },
    {
      "cell_type": "markdown",
      "metadata": {
        "id": "bF5EZ_SuWWK8"
      },
      "source": [
        "# Feature Selection"
      ]
    },
    {
      "cell_type": "code",
      "execution_count": null,
      "metadata": {
        "id": "ojl71FmBWWK8",
        "outputId": "9e5933bf-a5ed-40b2-e19e-87500eee8aef"
      },
      "outputs": [
        {
          "data": {
            "text/html": [
              "<div>\n",
              "<style scoped>\n",
              "    .dataframe tbody tr th:only-of-type {\n",
              "        vertical-align: middle;\n",
              "    }\n",
              "\n",
              "    .dataframe tbody tr th {\n",
              "        vertical-align: top;\n",
              "    }\n",
              "\n",
              "    .dataframe thead th {\n",
              "        text-align: right;\n",
              "    }\n",
              "</style>\n",
              "<table border=\"1\" class=\"dataframe\">\n",
              "  <thead>\n",
              "    <tr style=\"text-align: right;\">\n",
              "      <th></th>\n",
              "      <th>_columns</th>\n",
              "      <th>importances</th>\n",
              "    </tr>\n",
              "  </thead>\n",
              "  <tbody>\n",
              "    <tr>\n",
              "      <th>13</th>\n",
              "      <td>13</td>\n",
              "      <td>0.054056</td>\n",
              "    </tr>\n",
              "    <tr>\n",
              "      <th>16</th>\n",
              "      <td>16</td>\n",
              "      <td>0.051098</td>\n",
              "    </tr>\n",
              "    <tr>\n",
              "      <th>33</th>\n",
              "      <td>33</td>\n",
              "      <td>0.039354</td>\n",
              "    </tr>\n",
              "    <tr>\n",
              "      <th>14</th>\n",
              "      <td>14</td>\n",
              "      <td>0.034929</td>\n",
              "    </tr>\n",
              "    <tr>\n",
              "      <th>65</th>\n",
              "      <td>65</td>\n",
              "      <td>0.033797</td>\n",
              "    </tr>\n",
              "    <tr>\n",
              "      <th>64</th>\n",
              "      <td>64</td>\n",
              "      <td>0.033001</td>\n",
              "    </tr>\n",
              "    <tr>\n",
              "      <th>61</th>\n",
              "      <td>61</td>\n",
              "      <td>0.031415</td>\n",
              "    </tr>\n",
              "    <tr>\n",
              "      <th>55</th>\n",
              "      <td>55</td>\n",
              "      <td>0.031040</td>\n",
              "    </tr>\n",
              "    <tr>\n",
              "      <th>66</th>\n",
              "      <td>66</td>\n",
              "      <td>0.030527</td>\n",
              "    </tr>\n",
              "    <tr>\n",
              "      <th>54</th>\n",
              "      <td>54</td>\n",
              "      <td>0.030055</td>\n",
              "    </tr>\n",
              "    <tr>\n",
              "      <th>56</th>\n",
              "      <td>56</td>\n",
              "      <td>0.029722</td>\n",
              "    </tr>\n",
              "    <tr>\n",
              "      <th>15</th>\n",
              "      <td>15</td>\n",
              "      <td>0.029601</td>\n",
              "    </tr>\n",
              "    <tr>\n",
              "      <th>52</th>\n",
              "      <td>52</td>\n",
              "      <td>0.028796</td>\n",
              "    </tr>\n",
              "    <tr>\n",
              "      <th>17</th>\n",
              "      <td>17</td>\n",
              "      <td>0.027877</td>\n",
              "    </tr>\n",
              "    <tr>\n",
              "      <th>3</th>\n",
              "      <td>3</td>\n",
              "      <td>0.026401</td>\n",
              "    </tr>\n",
              "    <tr>\n",
              "      <th>57</th>\n",
              "      <td>57</td>\n",
              "      <td>0.026091</td>\n",
              "    </tr>\n",
              "    <tr>\n",
              "      <th>1</th>\n",
              "      <td>1</td>\n",
              "      <td>0.025822</td>\n",
              "    </tr>\n",
              "    <tr>\n",
              "      <th>60</th>\n",
              "      <td>60</td>\n",
              "      <td>0.025728</td>\n",
              "    </tr>\n",
              "    <tr>\n",
              "      <th>6</th>\n",
              "      <td>6</td>\n",
              "      <td>0.024920</td>\n",
              "    </tr>\n",
              "    <tr>\n",
              "      <th>58</th>\n",
              "      <td>58</td>\n",
              "      <td>0.024584</td>\n",
              "    </tr>\n",
              "    <tr>\n",
              "      <th>62</th>\n",
              "      <td>62</td>\n",
              "      <td>0.023057</td>\n",
              "    </tr>\n",
              "    <tr>\n",
              "      <th>63</th>\n",
              "      <td>63</td>\n",
              "      <td>0.022691</td>\n",
              "    </tr>\n",
              "    <tr>\n",
              "      <th>10</th>\n",
              "      <td>10</td>\n",
              "      <td>0.021257</td>\n",
              "    </tr>\n",
              "    <tr>\n",
              "      <th>4</th>\n",
              "      <td>4</td>\n",
              "      <td>0.020193</td>\n",
              "    </tr>\n",
              "    <tr>\n",
              "      <th>53</th>\n",
              "      <td>53</td>\n",
              "      <td>0.019717</td>\n",
              "    </tr>\n",
              "    <tr>\n",
              "      <th>50</th>\n",
              "      <td>50</td>\n",
              "      <td>0.019219</td>\n",
              "    </tr>\n",
              "    <tr>\n",
              "      <th>59</th>\n",
              "      <td>59</td>\n",
              "      <td>0.018633</td>\n",
              "    </tr>\n",
              "    <tr>\n",
              "      <th>51</th>\n",
              "      <td>51</td>\n",
              "      <td>0.017917</td>\n",
              "    </tr>\n",
              "    <tr>\n",
              "      <th>0</th>\n",
              "      <td>0</td>\n",
              "      <td>0.017396</td>\n",
              "    </tr>\n",
              "    <tr>\n",
              "      <th>48</th>\n",
              "      <td>48</td>\n",
              "      <td>0.016189</td>\n",
              "    </tr>\n",
              "    <tr>\n",
              "      <th>5</th>\n",
              "      <td>5</td>\n",
              "      <td>0.016173</td>\n",
              "    </tr>\n",
              "    <tr>\n",
              "      <th>22</th>\n",
              "      <td>22</td>\n",
              "      <td>0.015274</td>\n",
              "    </tr>\n",
              "    <tr>\n",
              "      <th>37</th>\n",
              "      <td>37</td>\n",
              "      <td>0.012569</td>\n",
              "    </tr>\n",
              "    <tr>\n",
              "      <th>8</th>\n",
              "      <td>8</td>\n",
              "      <td>0.011759</td>\n",
              "    </tr>\n",
              "    <tr>\n",
              "      <th>20</th>\n",
              "      <td>20</td>\n",
              "      <td>0.010553</td>\n",
              "    </tr>\n",
              "    <tr>\n",
              "      <th>31</th>\n",
              "      <td>31</td>\n",
              "      <td>0.010331</td>\n",
              "    </tr>\n",
              "    <tr>\n",
              "      <th>2</th>\n",
              "      <td>2</td>\n",
              "      <td>0.008848</td>\n",
              "    </tr>\n",
              "    <tr>\n",
              "      <th>7</th>\n",
              "      <td>7</td>\n",
              "      <td>0.008649</td>\n",
              "    </tr>\n",
              "    <tr>\n",
              "      <th>25</th>\n",
              "      <td>25</td>\n",
              "      <td>0.008050</td>\n",
              "    </tr>\n",
              "    <tr>\n",
              "      <th>27</th>\n",
              "      <td>27</td>\n",
              "      <td>0.007986</td>\n",
              "    </tr>\n",
              "    <tr>\n",
              "      <th>26</th>\n",
              "      <td>26</td>\n",
              "      <td>0.006701</td>\n",
              "    </tr>\n",
              "    <tr>\n",
              "      <th>40</th>\n",
              "      <td>40</td>\n",
              "      <td>0.006007</td>\n",
              "    </tr>\n",
              "    <tr>\n",
              "      <th>35</th>\n",
              "      <td>35</td>\n",
              "      <td>0.004960</td>\n",
              "    </tr>\n",
              "    <tr>\n",
              "      <th>29</th>\n",
              "      <td>29</td>\n",
              "      <td>0.004271</td>\n",
              "    </tr>\n",
              "    <tr>\n",
              "      <th>47</th>\n",
              "      <td>47</td>\n",
              "      <td>0.004066</td>\n",
              "    </tr>\n",
              "    <tr>\n",
              "      <th>38</th>\n",
              "      <td>38</td>\n",
              "      <td>0.003731</td>\n",
              "    </tr>\n",
              "    <tr>\n",
              "      <th>12</th>\n",
              "      <td>12</td>\n",
              "      <td>0.003433</td>\n",
              "    </tr>\n",
              "    <tr>\n",
              "      <th>39</th>\n",
              "      <td>39</td>\n",
              "      <td>0.002941</td>\n",
              "    </tr>\n",
              "    <tr>\n",
              "      <th>11</th>\n",
              "      <td>11</td>\n",
              "      <td>0.002416</td>\n",
              "    </tr>\n",
              "    <tr>\n",
              "      <th>45</th>\n",
              "      <td>45</td>\n",
              "      <td>0.002154</td>\n",
              "    </tr>\n",
              "  </tbody>\n",
              "</table>\n",
              "</div>"
            ],
            "text/plain": [
              "    _columns  importances\n",
              "13        13     0.054056\n",
              "16        16     0.051098\n",
              "33        33     0.039354\n",
              "14        14     0.034929\n",
              "65        65     0.033797\n",
              "64        64     0.033001\n",
              "61        61     0.031415\n",
              "55        55     0.031040\n",
              "66        66     0.030527\n",
              "54        54     0.030055\n",
              "56        56     0.029722\n",
              "15        15     0.029601\n",
              "52        52     0.028796\n",
              "17        17     0.027877\n",
              "3          3     0.026401\n",
              "57        57     0.026091\n",
              "1          1     0.025822\n",
              "60        60     0.025728\n",
              "6          6     0.024920\n",
              "58        58     0.024584\n",
              "62        62     0.023057\n",
              "63        63     0.022691\n",
              "10        10     0.021257\n",
              "4          4     0.020193\n",
              "53        53     0.019717\n",
              "50        50     0.019219\n",
              "59        59     0.018633\n",
              "51        51     0.017917\n",
              "0          0     0.017396\n",
              "48        48     0.016189\n",
              "5          5     0.016173\n",
              "22        22     0.015274\n",
              "37        37     0.012569\n",
              "8          8     0.011759\n",
              "20        20     0.010553\n",
              "31        31     0.010331\n",
              "2          2     0.008848\n",
              "7          7     0.008649\n",
              "25        25     0.008050\n",
              "27        27     0.007986\n",
              "26        26     0.006701\n",
              "40        40     0.006007\n",
              "35        35     0.004960\n",
              "29        29     0.004271\n",
              "47        47     0.004066\n",
              "38        38     0.003731\n",
              "12        12     0.003433\n",
              "39        39     0.002941\n",
              "11        11     0.002416\n",
              "45        45     0.002154"
            ]
          },
          "execution_count": 13,
          "metadata": {},
          "output_type": "execute_result"
        }
      ],
      "source": [
        "results=pd.DataFrame()\n",
        "results['_columns']=pd.DataFrame(X_train).columns\n",
        "results['importances'] = rf_clf.feature_importances_\n",
        "results.sort_values(by='importances',ascending=False,inplace=True)\n",
        "\n",
        "results[:50]"
      ]
    },
    {
      "cell_type": "code",
      "execution_count": null,
      "metadata": {
        "id": "C-dGapNRWWK9"
      },
      "outputs": [],
      "source": [
        "imp_feature_data = results[:50]"
      ]
    },
    {
      "cell_type": "code",
      "execution_count": null,
      "metadata": {
        "id": "yttillKiWWK9"
      },
      "outputs": [],
      "source": [
        "feature_list = imp_feature_data[\"_columns\"].unique().tolist()"
      ]
    },
    {
      "cell_type": "code",
      "execution_count": null,
      "metadata": {
        "id": "hwXHFIMeWWK9"
      },
      "outputs": [],
      "source": [
        "X_details = pd.DataFrame(X_details)"
      ]
    },
    {
      "cell_type": "code",
      "execution_count": null,
      "metadata": {
        "id": "wFFVoZ7BWWK9"
      },
      "outputs": [],
      "source": [
        "X_details = X_details[feature_list]"
      ]
    },
    {
      "cell_type": "code",
      "execution_count": null,
      "metadata": {
        "id": "f1bmpNuMWWK9"
      },
      "outputs": [],
      "source": [
        "# save the feature list to disk\n",
        "with open(\"feature_list\", \"wb\") as f: \n",
        "    pickle.dump(feature_list, f)"
      ]
    },
    {
      "cell_type": "markdown",
      "metadata": {
        "id": "eNh1ZypNWWK9"
      },
      "source": [
        "# New Model with Selected Features"
      ]
    },
    {
      "cell_type": "code",
      "execution_count": null,
      "metadata": {
        "id": "sk5QQe5gWWK9"
      },
      "outputs": [],
      "source": [
        "X_train, X_test, y_train, y_test = train_test_split(X_details, Y_details, test_size = 0.20, random_state = 1, stratify = Y_details)"
      ]
    },
    {
      "cell_type": "code",
      "execution_count": null,
      "metadata": {
        "id": "yiVi8g1rWWK-",
        "outputId": "4fe4e85d-f8d8-41c4-da4e-0d13c5d45dbc"
      },
      "outputs": [
        {
          "data": {
            "text/plain": [
              "RandomForestClassifier(random_state=42)"
            ]
          },
          "execution_count": 20,
          "metadata": {},
          "output_type": "execute_result"
        }
      ],
      "source": [
        "# ML Model \n",
        "rf_clf = RandomForestClassifier(random_state = 42)\n",
        "rf_clf.fit(X_train, y_train)"
      ]
    },
    {
      "cell_type": "code",
      "execution_count": null,
      "metadata": {
        "id": "ku7OawmIWWK-"
      },
      "outputs": [],
      "source": [
        "y_pred = rf_clf.predict(X_test)"
      ]
    },
    {
      "cell_type": "code",
      "execution_count": null,
      "metadata": {
        "id": "gO_E2LlCWWK-",
        "outputId": "b4818e65-37bb-462e-df1b-9e798ecc9422"
      },
      "outputs": [
        {
          "data": {
            "text/plain": [
              "0.6867469879518072"
            ]
          },
          "execution_count": 22,
          "metadata": {},
          "output_type": "execute_result"
        }
      ],
      "source": [
        "accuracy_score(y_test, y_pred)"
      ]
    },
    {
      "cell_type": "code",
      "execution_count": null,
      "metadata": {
        "id": "IfPR0boDWWK-"
      },
      "outputs": [],
      "source": [
        "param_range = np.arange(1, 250, 2)\n",
        "train_scoreNum, test_scoreNum = validation_curve(\n",
        "                                RandomForestClassifier(),\n",
        "                                X = X_train, y = y_train, \n",
        "                                param_name = 'n_estimators', \n",
        "                                param_range = param_range, cv = 3)"
      ]
    },
    {
      "cell_type": "code",
      "execution_count": null,
      "metadata": {
        "id": "mOeg9sygWWK-"
      },
      "outputs": [],
      "source": [
        "train_mean = np.mean(train_scoreNum, axis=1)\n",
        "train_std = np.std(train_scoreNum, axis=1)\n",
        "\n",
        "test_mean = np.mean(test_scoreNum, axis=1)\n",
        "test_std = np.std(test_scoreNum, axis=1)"
      ]
    },
    {
      "cell_type": "code",
      "execution_count": null,
      "metadata": {
        "id": "VLPOmYObWWK-",
        "outputId": "59e05a23-84b1-4012-d894-cc304a8fc906"
      },
      "outputs": [
        {
          "data": {
            "image/png": "[encoded data removed]",
            "text/plain": [
              "<Figure size 504x504 with 1 Axes>"
            ]
          },
          "metadata": {
            "needs_background": "light"
          },
          "output_type": "display_data"
        }
      ],
      "source": [
        "plt.subplots(1, figsize=(7,7))\n",
        "plt.plot(param_range, train_mean, label=\"Training score\", color=\"black\")\n",
        "plt.plot(param_range, test_mean, label=\"Cross-validation score\", color=\"dimgrey\")\n",
        "plt.fill_between(param_range, train_mean - train_std, train_mean + train_std, color=\"gray\")\n",
        "plt.fill_between(param_range, test_mean - test_std, test_mean + test_std, color=\"gainsboro\")\n",
        " \n",
        "plt.title(\"Validation Curve With Random Forest\")\n",
        "plt.xlabel(\"Number Of Trees\")\n",
        "plt.ylabel(\"Accuracy Score\")\n",
        "plt.tight_layout()\n",
        "plt.legend(loc=\"best\")\n",
        "plt.show()"
      ]
    },
    {
      "cell_type": "markdown",
      "metadata": {
        "id": "WxOA4GdoWWK-"
      },
      "source": [
        "# Hyperparameter tuning with GridSearchCV"
      ]
    },
    {
      "cell_type": "code",
      "execution_count": null,
      "metadata": {
        "id": "E5XmsycTWWK-",
        "outputId": "5ebcd3a0-350f-4414-cbfd-59c26309b8ca"
      },
      "outputs": [
        {
          "name": "stdout",
          "output_type": "stream",
          "text": [
            "Fitting 3 folds for each of 500 candidates, totalling 1500 fits\n"
          ]
        },
        {
          "name": "stderr",
          "output_type": "stream",
          "text": [
            "[Parallel(n_jobs=-1)]: Using backend LokyBackend with 12 concurrent workers.\n",
            "[Parallel(n_jobs=-1)]: Done  26 tasks      | elapsed:    3.9s\n",
            "[Parallel(n_jobs=-1)]: Done 176 tasks      | elapsed:   19.6s\n",
            "[Parallel(n_jobs=-1)]: Done 426 tasks      | elapsed:   46.6s\n",
            "[Parallel(n_jobs=-1)]: Done 776 tasks      | elapsed:  1.4min\n",
            "[Parallel(n_jobs=-1)]: Done 1226 tasks      | elapsed:  2.3min\n",
            "[Parallel(n_jobs=-1)]: Done 1500 out of 1500 | elapsed:  2.8min finished\n"
          ]
        }
      ],
      "source": [
        "n_estimators = [100, 300, 500, 800, 1200]\n",
        "max_depth = [5, 8, 15, 25, 30]\n",
        "min_samples_split = [2, 5, 10, 15, 100]\n",
        "min_samples_leaf = [1, 2, 5, 10] \n",
        "\n",
        "hyperF = dict(n_estimators = n_estimators, max_depth = max_depth,  \n",
        "              min_samples_split = min_samples_split, \n",
        "             min_samples_leaf = min_samples_leaf)\n",
        "\n",
        "gridF = GridSearchCV(rf_clf, hyperF, cv = 3, verbose = 1, \n",
        "                      n_jobs = -1)\n",
        "bestF = gridF.fit(X_train, y_train)\n"
      ]
    },
    {
      "cell_type": "code",
      "execution_count": null,
      "metadata": {
        "id": "-xq7bLF7WWK-"
      },
      "outputs": [],
      "source": [
        "y_pred = bestF.predict(X_test)"
      ]
    },
    {
      "cell_type": "code",
      "execution_count": null,
      "metadata": {
        "id": "K_pdb6SxWWK_",
        "outputId": "d492044b-8584-40ed-ca00-2c0b5350b8a7"
      },
      "outputs": [
        {
          "data": {
            "text/plain": [
              "0.7228915662650602"
            ]
          },
          "execution_count": 28,
          "metadata": {},
          "output_type": "execute_result"
        }
      ],
      "source": [
        "accuracy_score(y_test, y_pred)"
      ]
    },
    {
      "cell_type": "code",
      "execution_count": null,
      "metadata": {
        "id": "QTN1mmUoWWK_",
        "outputId": "bb4d4c53-4913-405e-9508-a4f6e0439eb7"
      },
      "outputs": [
        {
          "data": {
            "text/plain": [
              "<AxesSubplot:title={'center':'Confusion Matrix'}, xlabel='Predicted label', ylabel='True label'>"
            ]
          },
          "execution_count": 33,
          "metadata": {},
          "output_type": "execute_result"
        },
        {
          "data": {
            "image/png": "[encoded data removed]",
            "text/plain": [
              "<Figure size 864x864 with 2 Axes>"
            ]
          },
          "metadata": {
            "needs_background": "light"
          },
          "output_type": "display_data"
        }
      ],
      "source": [
        "import scikitplot as skplt\n",
        "skplt.metrics.plot_confusion_matrix(\n",
        "    y_test, \n",
        "    y_pred,\n",
        "    figsize=(12,12),x_tick_rotation=90)"
      ]
    },
    {
      "cell_type": "markdown",
      "metadata": {
        "id": "UTQsdx6nWWK_"
      },
      "source": [
        "# Saving the best model"
      ]
    },
    {
      "cell_type": "code",
      "execution_count": null,
      "metadata": {
        "id": "w5qaRN6vWWK_",
        "outputId": "e2e69d41-e3ce-4d16-ace8-efb98baa5ae4"
      },
      "outputs": [
        {
          "name": "stdout",
          "output_type": "stream",
          "text": [
            "Fitting 3 folds for each of 500 candidates, totalling 1500 fits\n"
          ]
        },
        {
          "name": "stderr",
          "output_type": "stream",
          "text": [
            "[Parallel(n_jobs=-1)]: Using backend LokyBackend with 12 concurrent workers.\n",
            "[Parallel(n_jobs=-1)]: Done  26 tasks      | elapsed:    3.0s\n",
            "[Parallel(n_jobs=-1)]: Done 176 tasks      | elapsed:   20.6s\n",
            "[Parallel(n_jobs=-1)]: Done 426 tasks      | elapsed:   50.9s\n",
            "[Parallel(n_jobs=-1)]: Done 776 tasks      | elapsed:  1.6min\n",
            "[Parallel(n_jobs=-1)]: Done 1226 tasks      | elapsed:  2.7min\n",
            "[Parallel(n_jobs=-1)]: Done 1500 out of 1500 | elapsed:  3.3min finished\n"
          ]
        }
      ],
      "source": [
        "ml_model = gridF.fit(X_details, Y_details)"
      ]
    },
    {
      "cell_type": "code",
      "execution_count": null,
      "metadata": {
        "id": "k62LtJZ0WWK_"
      },
      "outputs": [],
      "source": [
        "# save the model to disk\n",
        "filename = 'finalized_ml_model.sav'\n",
        "pickle.dump(ml_model, open(filename, 'wb'))"
      ]
    },
    {
      "cell_type": "markdown",
      "metadata": {
        "id": "30h0fR5qWWK_"
      },
      "source": [
        "# Deep Learning Model"
      ]
    },
    {
      "cell_type": "code",
      "execution_count": null,
      "metadata": {
        "id": "G4zVFCAAWWK_",
        "outputId": "b7569a12-ffdc-46e5-e72a-493eff75e181"
      },
      "outputs": [
        {
          "name": "stderr",
          "output_type": "stream",
          "text": [
            "/Applications/Utilities/anaconda3/lib/python3.8/site-packages/tqdm/std.py:702: FutureWarning: The Panel class is removed from pandas. Accessing it from the top-level namespace will also be removed in the next version\n",
            "  from pandas import Panel\n"
          ]
        }
      ],
      "source": [
        "import random\n",
        "import copy\n",
        "import time\n",
        "import pandas as pd\n",
        "import numpy as np\n",
        "import gc\n",
        "import re\n",
        "import torch\n",
        "\n",
        "#import spacy\n",
        "from tqdm import tqdm_notebook, tnrange\n",
        "from tqdm.auto import tqdm\n",
        "\n",
        "tqdm.pandas(desc='Progress')\n",
        "from collections import Counter\n",
        "\n",
        "from nltk import word_tokenize\n",
        "\n",
        "import torch.nn as nn\n",
        "import torch.optim as optim\n",
        "import torch.nn.functional as F\n",
        "from torch.utils.data import Dataset, DataLoader\n",
        "from torch.nn.utils.rnn import pack_padded_sequence, pad_packed_sequence\n",
        "from torch.autograd import Variable\n",
        "from sklearn.metrics import f1_score\n",
        "import os \n",
        "\n",
        "from keras.preprocessing.text import Tokenizer\n",
        "from keras.preprocessing.sequence import pad_sequences\n",
        "\n",
        "# cross validation and metrics\n",
        "from sklearn.model_selection import train_test_split\n",
        "from sklearn.model_selection import StratifiedKFold\n",
        "from sklearn.metrics import f1_score\n",
        "from torch.optim.optimizer import Optimizer\n",
        "\n",
        "from sklearn.preprocessing import StandardScaler\n",
        "from multiprocessing import  Pool\n",
        "from functools import partial\n",
        "import numpy as np\n",
        "from sklearn.decomposition import PCA\n",
        "import torch as t\n",
        "import torch.nn as nn\n",
        "import torch.nn.functional as F\n",
        "\n",
        "from sklearn.preprocessing import LabelEncoder\n",
        "from imblearn.over_sampling import SMOTE\n",
        "import scikitplot as skplt\n",
        "\n",
        "import matplotlib.pyplot as plt"
      ]
    },
    {
      "cell_type": "code",
      "execution_count": null,
      "metadata": {
        "id": "Q9jAWDNfWWK_"
      },
      "outputs": [],
      "source": [
        "## FUNCTIONS TAKEN FROM https://www.kaggle.com/gmhost/gru-capsule\n",
        "\n",
        "def load_glove(word_index):\n",
        "    EMBEDDING_FILE = 'glove.6B.100d.txt'\n",
        "    def get_coefs(word,*arr): return word, np.asarray(arr, dtype='float32')[:300]\n",
        "    embeddings_index = dict(get_coefs(*o.split(\" \")) for o in open(EMBEDDING_FILE))\n",
        "    \n",
        "    all_embs = np.stack(embeddings_index.values())\n",
        "    emb_mean,emb_std = -0.005838499,0.48782197\n",
        "    embed_size = all_embs.shape[1]\n",
        "\n",
        "    nb_words = min(MAX_NB_WORDS, len(word_index)+1)\n",
        "    embedding_matrix = np.random.normal(emb_mean, emb_std, (nb_words, embed_size))\n",
        "    for word, i in word_index.items():\n",
        "        if i >= MAX_NB_WORDS: continue\n",
        "        embedding_vector = embeddings_index.get(word)\n",
        "        if embedding_vector is not None: \n",
        "            embedding_matrix[i] = embedding_vector\n",
        "        else:\n",
        "            embedding_vector = embeddings_index.get(word.capitalize())\n",
        "            if embedding_vector is not None: \n",
        "                embedding_matrix[i] = embedding_vector\n",
        "    return embedding_matrix"
      ]
    },
    {
      "cell_type": "code",
      "execution_count": null,
      "metadata": {
        "id": "sI9MVxr6WWK_",
        "outputId": "d46d2740-7e37-4a30-da76-84c02a08a6fd"
      },
      "outputs": [
        {
          "name": "stdout",
          "output_type": "stream",
          "text": [
            "/Users/kaushik\n"
          ]
        }
      ],
      "source": [
        "cd"
      ]
    },
    {
      "cell_type": "code",
      "execution_count": null,
      "metadata": {
        "id": "ryUTSrmvWWK_"
      },
      "outputs": [],
      "source": [
        "os.chdir ('../kaushik/Desktop/bot')"
      ]
    },
    {
      "cell_type": "code",
      "execution_count": null,
      "metadata": {
        "id": "t0geAJ8mWWK_",
        "outputId": "a3655e9b-03c8-425c-a9d3-3e9ce99458c5"
      },
      "outputs": [
        {
          "name": "stderr",
          "output_type": "stream",
          "text": [
            "/Applications/Utilities/anaconda3/lib/python3.8/site-packages/IPython/core/interactiveshell.py:3418: FutureWarning: arrays to stack must be passed as a \"sequence\" type such as list or tuple. Support for non-sequence iterables such as generators is deprecated as of NumPy 1.16 and will raise an error in the future.\n",
            "  exec(code_obj, self.user_global_ns, self.user_ns)\n"
          ]
        }
      ],
      "source": [
        "# missing entries in the embedding are set using np.random.normal so we have to seed here too\n",
        "debug = 0\n",
        "if debug:\n",
        "    embedding_matrix = np.random.randn(MAX_NB_WORDS,EMBEDDING_DIM)\n",
        "else:\n",
        "    embedding_matrix = load_glove(tokenizer.word_index)"
      ]
    },
    {
      "cell_type": "code",
      "execution_count": null,
      "metadata": {
        "id": "014oV9HCWWK_",
        "outputId": "6ee31c05-bc27-4613-e5e7-5a23721c8ffe"
      },
      "outputs": [
        {
          "data": {
            "text/plain": [
              "(3454, 100)"
            ]
          },
          "execution_count": 39,
          "metadata": {},
          "output_type": "execute_result"
        }
      ],
      "source": [
        "np.shape(embedding_matrix)"
      ]
    },
    {
      "cell_type": "code",
      "execution_count": null,
      "metadata": {
        "id": "wdH2UOwVWWK_"
      },
      "outputs": [],
      "source": [
        "batch_size = 16 # how many samples to process at once\n",
        "n_epochs = 50 # how many times to iterate over all samples\n",
        "n_splits = 3 # Number of K-fold Splits\n",
        "SEED = 10\n",
        "debug = 0"
      ]
    },
    {
      "cell_type": "code",
      "execution_count": null,
      "metadata": {
        "id": "TT1Olot6WWK_"
      },
      "outputs": [],
      "source": [
        "class BiLSTM(nn.Module):\n",
        "    \n",
        "    def __init__(self):\n",
        "        super(BiLSTM, self).__init__()\n",
        "        self.hidden_size = 64\n",
        "        drp = 0.2\n",
        "        n_classes = len(le.classes_)\n",
        "        self.embedding = nn.Embedding(MAX_NB_WORDS, EMBEDDING_DIM)\n",
        "        self.embedding.weight = nn.Parameter(torch.tensor(embedding_matrix, dtype=torch.float32))\n",
        "        self.embedding.weight.requires_grad = True\n",
        "        self.lstm = nn.LSTM(EMBEDDING_DIM, self.hidden_size, bidirectional=True, batch_first=True)\n",
        "        self.linear = nn.Linear(self.hidden_size*4 , 64)\n",
        "        self.relu = nn.ReLU()\n",
        "        self.dropout = nn.Dropout(drp)\n",
        "        self.out = nn.Linear(64, n_classes)\n",
        "\n",
        "\n",
        "    def forward(self, x):\n",
        "        #rint(x.size())\n",
        "        h_embedding = self.embedding(x)\n",
        "        #_embedding = torch.squeeze(torch.unsqueeze(h_embedding, 0))\n",
        "        h_lstm, _ = self.lstm(h_embedding)\n",
        "        avg_pool = torch.mean(h_lstm, 1)\n",
        "        max_pool, _ = torch.max(h_lstm, 1)\n",
        "        conc = torch.cat(( avg_pool, max_pool), 1)\n",
        "        conc = self.relu(self.linear(conc))\n",
        "        conc = self.dropout(conc)\n",
        "        out = self.out(conc)\n",
        "        return out"
      ]
    },
    {
      "cell_type": "code",
      "execution_count": null,
      "metadata": {
        "id": "hr5RxttgWWLA"
      },
      "outputs": [],
      "source": [
        "train_X, test_X, train_y, test_y = train_test_split(X, Y, test_size = 0.20, random_state = 1)"
      ]
    },
    {
      "cell_type": "code",
      "execution_count": null,
      "metadata": {
        "id": "h8shMe-HWWLA"
      },
      "outputs": [],
      "source": [
        "\n",
        "le = LabelEncoder()\n",
        "train_y = le.fit_transform(train_y.values)\n",
        "test_y = le.transform(test_y.values)"
      ]
    },
    {
      "cell_type": "code",
      "execution_count": null,
      "metadata": {
        "id": "ByQhWzLNWWLA"
      },
      "outputs": [],
      "source": [
        "import numpy as np\n",
        "from torch.utils.data.sampler import WeightedRandomSampler\n",
        "\n",
        "counts = np.bincount(train_y)\n",
        "labels_weights = 1. / counts\n",
        "weights = labels_weights[train_y]\n",
        "sampler = WeightedRandomSampler(weights, len(weights))"
      ]
    },
    {
      "cell_type": "code",
      "execution_count": null,
      "metadata": {
        "id": "0Ce2YIgHWWLA",
        "outputId": "76543e32-d146-44a8-a250-e0459573e4a0"
      },
      "outputs": [
        {
          "name": "stderr",
          "output_type": "stream",
          "text": [
            "<ipython-input-45-00aaa1387de4>:47: UserWarning: Implicit dimension choice for softmax has been deprecated. Change the call to include dim=X as an argument.\n",
            "  val_preds[i * batch_size:(i+1) * batch_size] =F.softmax(y_pred).cpu().numpy()\n"
          ]
        },
        {
          "name": "stdout",
          "output_type": "stream",
          "text": [
            "Epoch 1/10 \t loss=9.7497 \t val_loss=4.9403  \t val_acc=0.9518  \t time=0.67s\n",
            "Epoch 2/10 \t loss=2.6236 \t val_loss=3.9801  \t val_acc=0.9518  \t time=0.57s\n",
            "Epoch 3/10 \t loss=0.2449 \t val_loss=8.5154  \t val_acc=0.9277  \t time=0.55s\n",
            "Epoch 4/10 \t loss=0.8407 \t val_loss=9.0964  \t val_acc=0.9277  \t time=0.55s\n",
            "Epoch 5/10 \t loss=0.1419 \t val_loss=7.4713  \t val_acc=0.9277  \t time=0.55s\n",
            "Epoch 6/10 \t loss=0.0358 \t val_loss=7.0319  \t val_acc=0.9398  \t time=0.55s\n",
            "Epoch 7/10 \t loss=0.0125 \t val_loss=7.1223  \t val_acc=0.9398  \t time=0.66s\n",
            "Epoch 8/10 \t loss=0.0161 \t val_loss=9.0179  \t val_acc=0.9398  \t time=0.56s\n",
            "Epoch 9/10 \t loss=0.0084 \t val_loss=9.1921  \t val_acc=0.9398  \t time=0.55s\n",
            "Epoch 10/10 \t loss=0.0062 \t val_loss=9.0740  \t val_acc=0.9398  \t time=0.56s\n"
          ]
        }
      ],
      "source": [
        "n_epochs = 10 \n",
        "model = BiLSTM()\n",
        "loss_fn = nn.CrossEntropyLoss(reduction='sum')\n",
        "optimizer = torch.optim.Adam(filter(lambda p: p.requires_grad, model.parameters()), lr=0.01)\n",
        "\n",
        "# Load train and test \n",
        "x_train = torch.tensor(train_X, dtype=torch.long)\n",
        "y_train = torch.tensor(train_y, dtype=torch.long)\n",
        "x_cv = torch.tensor(test_X, dtype=torch.long)\n",
        "y_cv = torch.tensor(test_y, dtype=torch.long)\n",
        "\n",
        "# Create Torch datasets\n",
        "train = torch.utils.data.TensorDataset(x_train, y_train)\n",
        "valid = torch.utils.data.TensorDataset(x_cv, y_cv)\n",
        "\n",
        "# Create Data Loaders\n",
        "train_loader = torch.utils.data.DataLoader(train, batch_size=batch_size, sampler = sampler)\n",
        "valid_loader = torch.utils.data.DataLoader(valid, batch_size=batch_size)\n",
        "\n",
        "train_loss = []\n",
        "valid_loss = []\n",
        "\n",
        "for epoch in range(n_epochs):\n",
        "    start_time = time.time()\n",
        "    # Set model to train configuration\n",
        "    model.train()\n",
        "    avg_loss = 0.  \n",
        "    for i, (x_batch, y_batch) in enumerate(train_loader):\n",
        "        # Predict/Forward Pass\n",
        "        y_pred = model(x_batch)\n",
        "        # Compute loss\n",
        "        loss = loss_fn(y_pred, y_batch)\n",
        "        optimizer.zero_grad()\n",
        "        loss.backward()\n",
        "        optimizer.step()\n",
        "        avg_loss += loss.item() / len(train_loader)\n",
        "    \n",
        "    # Set model to validation configuration -Doesn't get trained here\n",
        "    model.eval()        \n",
        "    avg_val_loss = 0.\n",
        "    val_preds = np.zeros((len(x_cv),len(le.classes_)))\n",
        "    \n",
        "    for i, (x_batch, y_batch) in enumerate(valid_loader):\n",
        "        y_pred = model(x_batch).detach()\n",
        "        avg_val_loss += loss_fn(y_pred, y_batch).item() / len(valid_loader)\n",
        "        # keep/store predictions\n",
        "        val_preds[i * batch_size:(i+1) * batch_size] =F.softmax(y_pred).cpu().numpy()\n",
        "    \n",
        "    # Check Accuracy\n",
        "    val_accuracy = sum(val_preds.argmax(axis=1)==test_y)/len(test_y)\n",
        "    train_loss.append(avg_loss)\n",
        "    valid_loss.append(avg_val_loss)\n",
        "    elapsed_time = time.time() - start_time \n",
        "    print('Epoch {}/{} \\t loss={:.4f} \\t val_loss={:.4f}  \\t val_acc={:.4f}  \\t time={:.2f}s'.format(\n",
        "                epoch + 1, n_epochs, avg_loss, avg_val_loss, val_accuracy, elapsed_time))"
      ]
    },
    {
      "cell_type": "code",
      "execution_count": null,
      "metadata": {
        "id": "XR34pPyYWWLA",
        "outputId": "de55d734-27c2-4f34-e3d4-73683ec87a1a"
      },
      "outputs": [
        {
          "data": {
            "text/plain": [
              "<AxesSubplot:title={'center':'Confusion Matrix'}, xlabel='Predicted label', ylabel='True label'>"
            ]
          },
          "execution_count": 46,
          "metadata": {},
          "output_type": "execute_result"
        },
        {
          "data": {
            "image/png": "[encoded data removed]",
            "text/plain": [
              "<Figure size 864x864 with 2 Axes>"
            ]
          },
          "metadata": {
            "needs_background": "light"
          },
          "output_type": "display_data"
        }
      ],
      "source": [
        "y_true = [le.classes_[x] for x in test_y]\n",
        "y_pred = [le.classes_[x] for x in val_preds.argmax(axis=1)]\n",
        "skplt.metrics.plot_confusion_matrix(\n",
        "    y_true, \n",
        "    y_pred,\n",
        "    figsize=(12,12),x_tick_rotation=90)"
      ]
    },
    {
      "cell_type": "code",
      "execution_count": null,
      "metadata": {
        "id": "uJXap8ChWWLA"
      },
      "outputs": [],
      "source": [
        "def plot_graph(epochs):\n",
        "    fig = plt.figure(figsize=(12,12))\n",
        "    plt.title(\"Train/Validation Loss\")\n",
        "    plt.plot(list(np.arange(epochs) + 1) , train_loss, label='train')\n",
        "    plt.plot(list(np.arange(epochs) + 1), valid_loss, label='validation')\n",
        "    plt.xlabel('num_epochs', fontsize=12)\n",
        "    plt.ylabel('loss', fontsize=12)\n",
        "    plt.legend(loc='best')"
      ]
    },
    {
      "cell_type": "code",
      "execution_count": null,
      "metadata": {
        "id": "Q1rWhSH7WWLA",
        "outputId": "abfc1456-a7f3-46b3-bf8b-9795e997118d"
      },
      "outputs": [
        {
          "data": {
            "image/png": "[encoded data removed]",
            "text/plain": [
              "<Figure size 864x864 with 1 Axes>"
            ]
          },
          "metadata": {
            "needs_background": "light"
          },
          "output_type": "display_data"
        }
      ],
      "source": [
        "plot_graph(n_epochs)"
      ]
    },
    {
      "cell_type": "code",
      "execution_count": null,
      "metadata": {
        "id": "8aEtK1SOWWLA"
      },
      "outputs": [],
      "source": [
        "class CNN_Text(nn.Module):\n",
        "    \n",
        "    def __init__(self):\n",
        "        super(CNN_Text, self).__init__()\n",
        "        filter_sizes = [2,3,5]\n",
        "        num_filters = 128\n",
        "        n_classes = len(le.classes_)\n",
        "        self.embedding = nn.Embedding(MAX_NB_WORDS, EMBEDDING_DIM)\n",
        "        self.embedding.weight = nn.Parameter(torch.tensor(embedding_matrix, dtype=torch.float32))\n",
        "        self.embedding.weight.requires_grad = False\n",
        "        self.convs1 = nn.ModuleList([nn.Conv2d(1, num_filters, (K, EMBEDDING_DIM)) for K in filter_sizes])\n",
        "        self.dropout = nn.Dropout(0.1)\n",
        "        self.fc1 = nn.Linear(len(filter_sizes)*num_filters, n_classes)\n",
        "\n",
        "\n",
        "    def forward(self, x):\n",
        "        x = self.embedding(x)  \n",
        "        x = x.unsqueeze(1)  \n",
        "        x = [F.relu(conv(x)).squeeze(3) for conv in self.convs1] \n",
        "        x = [F.max_pool1d(i, i.size(2)).squeeze(2) for i in x]  \n",
        "        x = torch.cat(x, 1)\n",
        "        x = self.dropout(x)  \n",
        "        logit = self.fc1(x) \n",
        "        return logit"
      ]
    },
    {
      "cell_type": "code",
      "execution_count": null,
      "metadata": {
        "id": "2cp8cmrPWWLA",
        "outputId": "13c7e1b5-70b6-4b11-d6fd-c3e796977839"
      },
      "outputs": [
        {
          "name": "stderr",
          "output_type": "stream",
          "text": [
            "/Applications/Utilities/anaconda3/lib/python3.8/site-packages/torch/nn/functional.py:652: UserWarning: Named tensors and all their associated APIs are an experimental feature and subject to change. Please do not use them for anything important until they are released as stable. (Triggered internally at  ../c10/core/TensorImpl.h:1156.)\n",
            "  return torch.max_pool1d(input, kernel_size, stride, padding, dilation, ceil_mode)\n",
            "<ipython-input-50-9df221dd9e63>:48: UserWarning: Implicit dimension choice for softmax has been deprecated. Change the call to include dim=X as an argument.\n",
            "  val_preds[i * batch_size:(i+1) * batch_size] =F.softmax(y_pred).cpu().numpy()\n"
          ]
        },
        {
          "name": "stdout",
          "output_type": "stream",
          "text": [
            "Epoch 1/10 \t loss=8.7541 \t val_loss=8.3208  \t val_acc=0.9518  \t time=0.43s\n",
            "Epoch 2/10 \t loss=4.1884 \t val_loss=3.4429  \t val_acc=0.9277  \t time=0.31s\n",
            "Epoch 3/10 \t loss=2.3074 \t val_loss=3.6551  \t val_acc=0.9398  \t time=0.29s\n",
            "Epoch 4/10 \t loss=1.4246 \t val_loss=4.1685  \t val_acc=0.9398  \t time=0.30s\n",
            "Epoch 5/10 \t loss=0.9495 \t val_loss=3.0864  \t val_acc=0.9398  \t time=0.30s\n",
            "Epoch 6/10 \t loss=0.6657 \t val_loss=2.3963  \t val_acc=0.9398  \t time=0.30s\n",
            "Epoch 7/10 \t loss=0.3327 \t val_loss=2.4047  \t val_acc=0.9398  \t time=0.29s\n",
            "Epoch 8/10 \t loss=0.2666 \t val_loss=2.5119  \t val_acc=0.9398  \t time=0.30s\n",
            "Epoch 9/10 \t loss=0.1852 \t val_loss=2.6107  \t val_acc=0.9398  \t time=0.30s\n",
            "Epoch 10/10 \t loss=0.1615 \t val_loss=2.7104  \t val_acc=0.9398  \t time=0.30s\n"
          ]
        }
      ],
      "source": [
        "n_epochs = 10\n",
        "model = CNN_Text()\n",
        "loss_fn = nn.CrossEntropyLoss(reduction='sum')\n",
        "optimizer = torch.optim.Adam(filter(lambda p: p.requires_grad, model.parameters()), lr=0.001)\n",
        "\n",
        "\n",
        "# Load train and test in CUDA Memory\n",
        "x_train = torch.tensor(train_X, dtype=torch.long)\n",
        "y_train = torch.tensor(train_y, dtype=torch.long)\n",
        "x_cv = torch.tensor(test_X, dtype=torch.long)\n",
        "y_cv = torch.tensor(test_y, dtype=torch.long)\n",
        "\n",
        "# Create Torch datasets\n",
        "train = torch.utils.data.TensorDataset(x_train, y_train)\n",
        "valid = torch.utils.data.TensorDataset(x_cv, y_cv)\n",
        "\n",
        "# Create Data Loaders\n",
        "train_loader = torch.utils.data.DataLoader(train, batch_size=batch_size, sampler = sampler)\n",
        "valid_loader = torch.utils.data.DataLoader(valid, batch_size=batch_size)\n",
        "\n",
        "train_loss = []\n",
        "valid_loss = []\n",
        "\n",
        "for epoch in range(n_epochs):\n",
        "    start_time = time.time()\n",
        "    # Set model to train configuration\n",
        "    model.train()\n",
        "    avg_loss = 0.  \n",
        "    for i, (x_batch, y_batch) in enumerate(train_loader):\n",
        "        # Predict/Forward Pass\n",
        "        y_pred = model(x_batch)\n",
        "        # Compute loss\n",
        "        loss = loss_fn(y_pred, y_batch)\n",
        "        optimizer.zero_grad()\n",
        "        loss.backward()\n",
        "        optimizer.step()\n",
        "        avg_loss += loss.item() / len(train_loader)\n",
        "    \n",
        "    # Set model to validation configuration -Doesn't get trained here\n",
        "    model.eval()        \n",
        "    avg_val_loss = 0.\n",
        "    val_preds = np.zeros((len(x_cv),len(le.classes_)))\n",
        "    \n",
        "    for i, (x_batch, y_batch) in enumerate(valid_loader):\n",
        "        y_pred = model(x_batch).detach()\n",
        "        avg_val_loss += loss_fn(y_pred, y_batch).item() / len(valid_loader)\n",
        "        # keep/store predictions\n",
        "        val_preds[i * batch_size:(i+1) * batch_size] =F.softmax(y_pred).cpu().numpy()\n",
        "    \n",
        "    # Check Accuracy\n",
        "    val_accuracy = sum(val_preds.argmax(axis=1)==test_y)/len(test_y)\n",
        "    train_loss.append(avg_loss)\n",
        "    valid_loss.append(avg_val_loss)\n",
        "    elapsed_time = time.time() - start_time \n",
        "    print('Epoch {}/{} \\t loss={:.4f} \\t val_loss={:.4f}  \\t val_acc={:.4f}  \\t time={:.2f}s'.format(\n",
        "                epoch + 1, n_epochs, avg_loss, avg_val_loss, val_accuracy, elapsed_time))"
      ]
    },
    {
      "cell_type": "code",
      "execution_count": null,
      "metadata": {
        "id": "TIwvvZ22WWLA",
        "outputId": "a6da5e01-c633-40af-deda-1764e61856ff"
      },
      "outputs": [
        {
          "data": {
            "text/plain": [
              "<AxesSubplot:title={'center':'Confusion Matrix'}, xlabel='Predicted label', ylabel='True label'>"
            ]
          },
          "execution_count": 51,
          "metadata": {},
          "output_type": "execute_result"
        },
        {
          "data": {
            "image/png": "[encoded data removed]",
            "text/plain": [
              "<Figure size 864x864 with 2 Axes>"
            ]
          },
          "metadata": {
            "needs_background": "light"
          },
          "output_type": "display_data"
        }
      ],
      "source": [
        "y_true = [le.classes_[x] for x in test_y]\n",
        "y_pred = [le.classes_[x] for x in val_preds.argmax(axis=1)]\n",
        "skplt.metrics.plot_confusion_matrix(\n",
        "    y_true, \n",
        "    y_pred,\n",
        "    figsize=(12,12),x_tick_rotation=90)"
      ]
    },
    {
      "cell_type": "code",
      "execution_count": null,
      "metadata": {
        "id": "ZepgHHtKWWLA",
        "outputId": "379354e5-6f6f-43c4-b0ea-2cf6fcfbd509"
      },
      "outputs": [
        {
          "name": "stderr",
          "output_type": "stream",
          "text": [
            "<ipython-input-56-637667994dcd>:47: UserWarning: Implicit dimension choice for softmax has been deprecated. Change the call to include dim=X as an argument.\n",
            "  val_preds[i * batch_size:(i+1) * batch_size] =F.softmax(y_pred).cpu().numpy()\n"
          ]
        },
        {
          "name": "stdout",
          "output_type": "stream",
          "text": [
            "Epoch 1/10 \t loss=16.1897 \t val_loss=15.4063  \t val_acc=0.0964  \t time=0.62s\n",
            "Epoch 2/10 \t loss=10.6970 \t val_loss=13.2501  \t val_acc=0.1446  \t time=0.58s\n",
            "Epoch 3/10 \t loss=7.0528 \t val_loss=10.3303  \t val_acc=0.4699  \t time=0.57s\n",
            "Epoch 4/10 \t loss=6.1701 \t val_loss=5.0668  \t val_acc=0.9036  \t time=0.62s\n",
            "Epoch 5/10 \t loss=4.2269 \t val_loss=4.4675  \t val_acc=0.8916  \t time=0.60s\n",
            "Epoch 6/10 \t loss=5.5249 \t val_loss=11.2932  \t val_acc=0.3855  \t time=0.56s\n",
            "Epoch 7/10 \t loss=3.6019 \t val_loss=5.0950  \t val_acc=0.8554  \t time=0.55s\n",
            "Epoch 8/10 \t loss=2.6928 \t val_loss=3.4086  \t val_acc=0.8916  \t time=0.58s\n",
            "Epoch 9/10 \t loss=1.6309 \t val_loss=3.2146  \t val_acc=0.8916  \t time=0.58s\n",
            "Epoch 10/10 \t loss=1.1580 \t val_loss=4.7980  \t val_acc=0.9036  \t time=0.54s\n"
          ]
        }
      ],
      "source": [
        "n_epochs = 10 \n",
        "model = BiLSTM()\n",
        "loss_fn = nn.CrossEntropyLoss(reduction='sum')\n",
        "optimizer = torch.optim.Adam(filter(lambda p: p.requires_grad, model.parameters()), lr=0.001)\n",
        "\n",
        "# Load train and test in CUDA Memory\n",
        "x_train = torch.tensor(train_X, dtype=torch.long)\n",
        "y_train = torch.tensor(train_y, dtype=torch.long)\n",
        "x_cv = torch.tensor(test_X, dtype=torch.long)\n",
        "y_cv = torch.tensor(test_y, dtype=torch.long)\n",
        "\n",
        "# Create Torch datasets\n",
        "train = torch.utils.data.TensorDataset(x_train, y_train)\n",
        "valid = torch.utils.data.TensorDataset(x_cv, y_cv)\n",
        "\n",
        "# Create Data Loaders\n",
        "train_loader = torch.utils.data.DataLoader(train, batch_size=batch_size, sampler = sampler)\n",
        "valid_loader = torch.utils.data.DataLoader(valid, batch_size=batch_size)\n",
        "\n",
        "train_loss = []\n",
        "valid_loss = []\n",
        "\n",
        "for epoch in range(n_epochs):\n",
        "    start_time = time.time()\n",
        "    # Set model to train configuration\n",
        "    model.train()\n",
        "    avg_loss = 0.  \n",
        "    for i, (x_batch, y_batch) in enumerate(train_loader):\n",
        "        # Predict/Forward Pass\n",
        "        y_pred = model(x_batch)\n",
        "        # Compute loss\n",
        "        loss = loss_fn(y_pred, y_batch)\n",
        "        optimizer.zero_grad()\n",
        "        loss.backward()\n",
        "        optimizer.step()\n",
        "        avg_loss += loss.item() / len(train_loader)\n",
        "    \n",
        "    # Set model to validation configuration -Doesn't get trained here\n",
        "    model.eval()        \n",
        "    avg_val_loss = 0.\n",
        "    val_preds = np.zeros((len(x_cv),len(le.classes_)))\n",
        "    \n",
        "    for i, (x_batch, y_batch) in enumerate(valid_loader):\n",
        "        y_pred = model(x_batch).detach()\n",
        "        avg_val_loss += loss_fn(y_pred, y_batch).item() / len(valid_loader)\n",
        "        # keep/store predictions\n",
        "        val_preds[i * batch_size:(i+1) * batch_size] =F.softmax(y_pred).cpu().numpy()\n",
        "    \n",
        "    # Check Accuracy\n",
        "    val_accuracy = sum(val_preds.argmax(axis=1)==test_y)/len(test_y)\n",
        "    train_loss.append(avg_loss)\n",
        "    valid_loss.append(avg_val_loss)\n",
        "    elapsed_time = time.time() - start_time \n",
        "    print('Epoch {}/{} \\t loss={:.4f} \\t val_loss={:.4f}  \\t val_acc={:.4f}  \\t time={:.2f}s'.format(\n",
        "                epoch + 1, n_epochs, avg_loss, avg_val_loss, val_accuracy, elapsed_time))"
      ]
    },
    {
      "cell_type": "code",
      "execution_count": null,
      "metadata": {
        "id": "hPSh3duWWWLB"
      },
      "outputs": [],
      "source": [
        "torch.save(model, '..\\bot')"
      ]
    },
    {
      "cell_type": "code",
      "execution_count": null,
      "metadata": {
        "id": "dgvDBiv_WWLB"
      },
      "outputs": [],
      "source": [
        "import pickle\n",
        "\n",
        "# saving\n",
        "with open('tokenizer.pickle', 'wb') as handle:\n",
        "    pickle.dump(tokenizer, handle, protocol=pickle.HIGHEST_PROTOCOL)"
      ]
    },
    {
      "cell_type": "code",
      "execution_count": null,
      "metadata": {
        "id": "cO6umOKRWWLB"
      },
      "outputs": [],
      "source": [
        "with open(\"le\", \"wb\") as f: \n",
        "    pickle.dump(le, f)"
      ]
    },
    {
      "cell_type": "code",
      "execution_count": null,
      "metadata": {
        "id": "LRJeukY9WWLB"
      },
      "outputs": [],
      "source": [
        "os.chdir(\"../kaushik/Desktop/bot\")"
      ]
    },
    {
      "cell_type": "code",
      "execution_count": null,
      "metadata": {
        "id": "eWAJWDagWWLB"
      },
      "outputs": [],
      "source": [
        "PATH = 'bilstm.h5'\n",
        "torch.save(model.state_dict(), PATH)"
      ]
    },
    {
      "cell_type": "code",
      "execution_count": null,
      "metadata": {
        "id": "zdx9e4x5WWLB"
      },
      "outputs": [],
      "source": [
        "with open(\"embedding_matrix\", \"wb\") as f: \n",
        "    pickle.dump(embedding_matrix, f)"
      ]
    },
    {
      "cell_type": "code",
      "execution_count": null,
      "metadata": {
        "id": "Q1EsltHkWWLB"
      },
      "outputs": [],
      "source": [
        ""
      ]
    }
  ],
  "metadata": {
    "kernelspec": {
      "display_name": "Python 3",
      "language": "python",
      "name": "python3"
    },
    "language_info": {
      "codemirror_mode": {
        "name": "ipython",
        "version": 3
      },
      "file_extension": ".py",
      "mimetype": "text/x-python",
      "name": "python",
      "nbconvert_exporter": "python",
      "pygments_lexer": "ipython3",
      "version": "3.8.5"
    },
    "colab": {
      "name": "nlp+capstone+DL+model+final.ipynb",
      "provenance": [],
      "include_colab_link": true
    }
  },
  "nbformat": 4,
  "nbformat_minor": 0
}